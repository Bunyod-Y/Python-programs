{
  "nbformat": 4,
  "nbformat_minor": 0,
  "metadata": {
    "colab": {
      "provenance": [],
      "authorship_tag": "ABX9TyMHJvtKItXYnjYcoxqM1jp3"
    },
    "kernelspec": {
      "name": "python3",
      "display_name": "Python 3"
    },
    "language_info": {
      "name": "python"
    }
  },
  "cells": [
    {
      "cell_type": "code",
      "execution_count": null,
      "metadata": {
        "colab": {
          "base_uri": "https://localhost:8080/"
        },
        "id": "YShLo-T0UR4Y",
        "outputId": "3c2e35e0-fcff-4abd-8d24-d98e8824743b"
      },
      "outputs": [
        {
          "output_type": "stream",
          "name": "stdout",
          "text": [
            "[1, 2, 3, 4, 1, 2, 3, 4]\n"
          ]
        }
      ],
      "source": [
        "import numpy as np\n",
        "\n",
        "my_list=[1,2,3,4]\n",
        "\n",
        "my_list=my_list*2\n",
        "\n",
        "print(my_list)"
      ]
    },
    {
      "cell_type": "markdown",
      "source": [
        "# 1 dimensional array"
      ],
      "metadata": {
        "id": "7X8oWXO-qIoa"
      }
    },
    {
      "cell_type": "code",
      "source": [
        "array=np.array([1,2,3,4])\n",
        "print(array)"
      ],
      "metadata": {
        "colab": {
          "base_uri": "https://localhost:8080/"
        },
        "id": "6PyliMGcnlY8",
        "outputId": "65a78783-a0da-4d7f-d3f1-afe3a4a1bb33"
      },
      "execution_count": null,
      "outputs": [
        {
          "output_type": "stream",
          "name": "stdout",
          "text": [
            "[1 2 3 4]\n"
          ]
        }
      ]
    },
    {
      "cell_type": "markdown",
      "source": [
        "# 2 dimensional array"
      ],
      "metadata": {
        "id": "soVoRi3Do7zb"
      }
    },
    {
      "cell_type": "code",
      "source": [
        "import numpy as np\n",
        "\n",
        "array=np.array([ ['A','B','C'],\n",
        "                 ['D','E','F'],\n",
        "                 ['G','H','I'] ])\n",
        "print(array.ndim)"
      ],
      "metadata": {
        "colab": {
          "base_uri": "https://localhost:8080/"
        },
        "id": "Mlt71cycnlQq",
        "outputId": "cc7fa4e4-1ab8-4c4c-cb11-970322d35b87"
      },
      "execution_count": null,
      "outputs": [
        {
          "output_type": "stream",
          "name": "stdout",
          "text": [
            "2\n"
          ]
        }
      ]
    },
    {
      "cell_type": "markdown",
      "source": [
        "# 3 dimensional array"
      ],
      "metadata": {
        "id": "r2_C1yTfqQP8"
      }
    },
    {
      "cell_type": "code",
      "source": [
        "import numpy as np\n",
        "\n",
        "array=np.array([ [['A','B','C'], ['D','E','F'], ['G','H','I']],\n",
        "                 [['J','K','L'], ['M','N','O'], ['P','Q','R']],\n",
        "                 [['S','T','U'], ['V','W','X'], ['Y','Z','_']] ])\n",
        "\n",
        "word=array[0,0,0]+array[2,0,0]+array[2,0,0]\n",
        "\n",
        "print(word)"
      ],
      "metadata": {
        "colab": {
          "base_uri": "https://localhost:8080/"
        },
        "id": "LaizgcYAnlGj",
        "outputId": "7a979e50-eea8-4c82-ece1-5be2a74bcc05"
      },
      "execution_count": null,
      "outputs": [
        {
          "output_type": "stream",
          "name": "stdout",
          "text": [
            "ASS\n"
          ]
        }
      ]
    },
    {
      "cell_type": "code",
      "source": [],
      "metadata": {
        "id": "nfzks1auuMbU"
      },
      "execution_count": null,
      "outputs": []
    }
  ]
}