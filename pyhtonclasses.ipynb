{
  "nbformat": 4,
  "nbformat_minor": 0,
  "metadata": {
    "colab": {
      "provenance": [],
      "authorship_tag": "ABX9TyNlTMouA3lfsEOe1QvPrxzo"
    },
    "kernelspec": {
      "name": "python3",
      "display_name": "Python 3"
    },
    "language_info": {
      "name": "python"
    }
  },
  "cells": [
    {
      "cell_type": "code",
      "execution_count": null,
      "metadata": {
        "colab": {
          "base_uri": "https://localhost:8080/"
        },
        "id": "naTCpWF5DDjQ",
        "outputId": "5441c634-cf30-4463-ab3c-2f4ec74f5c7a"
      },
      "outputs": [
        {
          "output_type": "stream",
          "name": "stdout",
          "text": [
            "10\n"
          ]
        }
      ],
      "source": [
        "class Point:\n",
        "  def __init__(self, x, y):\n",
        "    self.x=x\n",
        "    self.y=y\n",
        "\n",
        "  def move(self):\n",
        "    print(\"move\")\n",
        "\n",
        "  def draw(self):\n",
        "    print('draw')\n",
        "\n",
        "point = Point(10, 20)\n",
        "print(point.x)"
      ]
    },
    {
      "cell_type": "code",
      "source": [
        "class Point:\n",
        "  def __init__(self, x, y):\n",
        "    self.x=x\n",
        "    self.y=y\n",
        "\n",
        "p=Point(10,20)\n",
        "print(p.y)"
      ],
      "metadata": {
        "colab": {
          "base_uri": "https://localhost:8080/"
        },
        "id": "EjGQMYJ1Fn-J",
        "outputId": "ffaacee0-8b96-4ee8-bd58-1853f934f0a9"
      },
      "execution_count": null,
      "outputs": [
        {
          "output_type": "stream",
          "name": "stdout",
          "text": [
            "20\n"
          ]
        }
      ]
    },
    {
      "cell_type": "code",
      "source": [
        "class Person:\n",
        "  def __init__(self, name):\n",
        "    self.name=name\n",
        "\n",
        "  def talk(self):\n",
        "    print(f\"Hi, I am {self.name}\")\n",
        "\n",
        "john=Person(\"Bunyod Yokubov\")\n",
        "john.talk()\n",
        "bob=Person(\"Bob Smith\")\n",
        "bob.talk()\n",
        "bunyod=Person(\"Bunyod Boyvachcha\")\n",
        "bunyod.talk()"
      ],
      "metadata": {
        "colab": {
          "base_uri": "https://localhost:8080/"
        },
        "id": "1Mb--Hm2HbrK",
        "outputId": "a71b20f1-9fb3-4466-fc26-e820dba2cc98"
      },
      "execution_count": null,
      "outputs": [
        {
          "output_type": "stream",
          "name": "stdout",
          "text": [
            "Hi, I am Bunyod Yokubov\n",
            "Hi, I am Bob Smith\n",
            "Hi, I am Bunyod Boyvachcha\n"
          ]
        }
      ]
    },
    {
      "cell_type": "markdown",
      "source": [
        "# Inheritance"
      ],
      "metadata": {
        "id": "hte5qJN-L864"
      }
    },
    {
      "cell_type": "code",
      "source": [
        "class Mammal:\n",
        "  def __init__(self, name):\n",
        "    self.name=name\n",
        "\n",
        "  def walk(self):\n",
        "    print(f\"{self.name} Walking\")\n",
        "\n",
        "class Dog(Mammal):\n",
        "  def bark(self):\n",
        "    print(f\"{self.name} Barking\")\n",
        "\n",
        "class Cat(Mammal):\n",
        "  def be_annoying(self):\n",
        "    print(f\"{self.name} Annoying\")\n",
        "\n",
        "reks=Dog(\"Rex\")\n",
        "reks.bark()\n",
        "tom=Cat(\"Tom\")\n",
        "tom.be_annoying()\n"
      ],
      "metadata": {
        "colab": {
          "base_uri": "https://localhost:8080/"
        },
        "id": "VS4JLlKdKhso",
        "outputId": "3dc1ae37-a858-41d3-b22e-8ad2622960c5"
      },
      "execution_count": null,
      "outputs": [
        {
          "output_type": "stream",
          "name": "stdout",
          "text": [
            "Rex Barking\n",
            "Tom Annoying\n"
          ]
        }
      ]
    }
  ]
}