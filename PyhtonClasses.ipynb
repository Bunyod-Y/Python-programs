{
  "nbformat": 4,
  "nbformat_minor": 0,
  "metadata": {
    "colab": {
      "provenance": [],
      "authorship_tag": "ABX9TyMraR2ysJ33YqUx2vKylWOs",
      "include_colab_link": true
    },
    "kernelspec": {
      "name": "python3",
      "display_name": "Python 3"
    },
    "language_info": {
      "name": "python"
    }
  },
  "cells": [
    {
      "cell_type": "markdown",
      "metadata": {
        "id": "view-in-github",
        "colab_type": "text"
      },
      "source": [
        "<a href=\"https://colab.research.google.com/github/Bunyod-Y/Python-programs/blob/main/PyhtonClasses.ipynb\" target=\"_parent\"><img src=\"https://colab.research.google.com/assets/colab-badge.svg\" alt=\"Open In Colab\"/></a>"
      ]
    },
    {
      "cell_type": "code",
      "execution_count": 3,
      "metadata": {
        "colab": {
          "base_uri": "https://localhost:8080/"
        },
        "id": "naTCpWF5DDjQ",
        "outputId": "5441c634-cf30-4463-ab3c-2f4ec74f5c7a"
      },
      "outputs": [
        {
          "output_type": "stream",
          "name": "stdout",
          "text": [
            "10\n"
          ]
        }
      ],
      "source": [
        "class Point:\n",
        "  def __init__(self, x, y):\n",
        "    self.x=x\n",
        "    self.y=y\n",
        "\n",
        "  def move(self):\n",
        "    print(\"move\")\n",
        "\n",
        "  def draw(self):\n",
        "    print('draw')\n",
        "\n",
        "point = Point(10, 20)\n",
        "print(point.x)"
      ]
    },
    {
      "cell_type": "code",
      "source": [
        "class Point:\n",
        "  def __init__(self, x, y):\n",
        "    self.x=x\n",
        "    self.y=y\n",
        "\n",
        "p=Point(10,20)\n",
        "print(p.y)"
      ],
      "metadata": {
        "colab": {
          "base_uri": "https://localhost:8080/"
        },
        "id": "EjGQMYJ1Fn-J",
        "outputId": "ffaacee0-8b96-4ee8-bd58-1853f934f0a9"
      },
      "execution_count": 6,
      "outputs": [
        {
          "output_type": "stream",
          "name": "stdout",
          "text": [
            "20\n"
          ]
        }
      ]
    },
    {
      "cell_type": "code",
      "source": [
        "class Person:\n",
        "  def __init__(self, name):\n",
        "    self.name=name\n",
        "\n",
        "  def talk(self):\n",
        "    print(f\"Hi, I am {self.name}\")\n",
        "\n",
        "john=Person(\"Bunyod Yokubov\")\n",
        "john.talk()\n",
        "bob=Person(\"Bob Smith\")\n",
        "bob.talk()"
      ],
      "metadata": {
        "colab": {
          "base_uri": "https://localhost:8080/"
        },
        "id": "1Mb--Hm2HbrK",
        "outputId": "27310f83-99a1-48ee-94a0-97e6e6e84f8f"
      },
      "execution_count": 10,
      "outputs": [
        {
          "output_type": "stream",
          "name": "stdout",
          "text": [
            "Hi, I am Bunyod Yokubov\n",
            "Hi, I am Bob Smith\n"
          ]
        }
      ]
    }
  ]
}